{
 "metadata": {
  "name": "",
  "signature": "sha256:df6dec37e839f3fbc686511fd4cdaea4e106a55e939601ebf05bb25fcb6c8984"
 },
 "nbformat": 3,
 "nbformat_minor": 0,
 "worksheets": []
}